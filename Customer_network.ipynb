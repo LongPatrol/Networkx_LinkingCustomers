{
 "cells": [
  {
   "cell_type": "code",
   "execution_count": 1,
   "metadata": {},
   "outputs": [
    {
     "name": "stdout",
     "output_type": "stream",
     "text": [
      "13\n",
      "10\n",
      "None\n"
     ]
    },
    {
     "data": {
      "image/png": "[encoded data removed]",
      "text/plain": [
       "<Figure size 432x288 with 1 Axes>"
      ]
     },
     "metadata": {},
     "output_type": "display_data"
    }
   ],
   "source": [
    "import networkx as nx\n",
    "import csv as csv\n",
    "import itertools as its\n",
    "import matplotlib as mt\n",
    "\n",
    "#Read in the edge csv, create the graph from the edges\n",
    "G = nx.read_edgelist(\"EdgeList.csv\", delimiter = \",\", create_using = nx.Graph(), nodetype = str, data=True, edgetype=str)\n",
    "\n",
    "#How many nodes and edges do we have?\n",
    "print(G.number_of_nodes())\n",
    "print(G.number_of_edges())\n",
    "#print the specific edges and nodes\n",
    "#print(G.nodes())\n",
    "#print(G.edges())\n",
    "\n",
    "#Draw the graph. (This won't be pretty if you have a lot of nodes)\n",
    "print(nx.draw(G))\n",
    "\n",
    "#Other option for drawing the graph\n",
    "#print(nx.draw_networkx(G, with_labels=True, node_size=250))"
   ]
  },
  {
   "cell_type": "code",
   "execution_count": 2,
   "metadata": {},
   "outputs": [
    {
     "name": "stdout",
     "output_type": "stream",
     "text": [
      "[{'2', '3', '5', '4', '1'}, {'6', '7'}, {'8', '10', '9'}, {'13', '12', '11'}]\n"
     ]
    }
   ],
   "source": [
    "#now we want to get our connected components. aka: our customer groups\n",
    "Customers = nx.connected_components(G)\n",
    "\n",
    "Customer_list = []\n",
    "for Customer in Customers:\n",
    "    Customer_list.append(Customer)\n",
    "print(Customer_list)"
   ]
  },
  {
   "cell_type": "code",
   "execution_count": 3,
   "metadata": {},
   "outputs": [],
   "source": [
    "#Now we want to give our Customer groups an ID (the clique number) and print out a new file. \n",
    "#Clique is another name for a group not connected to any other groups\n",
    "#We are creating a row for each connection from \"A\" to \"B\", and a row for \"B\" to \"A\"\n",
    "\n",
    "with open(\"CustomerList.csv\", \"tw\") as file:\n",
    "    w = csv.writer(file, delimiter=',', lineterminator = '\\n')\n",
    "    w.writerow([\"node1\", \"node2\", \"clique number\"])\n",
    "    w.writerows(p + (i,) for i, n in enumerate(Customer_list, 1) for p in its.permutations(n,2))\n",
    "\n"
   ]
  },
  {
   "cell_type": "code",
   "execution_count": null,
   "metadata": {},
   "outputs": [],
   "source": []
  }
 ],
 "metadata": {
  "kernelspec": {
   "display_name": "Python 3",
   "language": "python",
   "name": "python3"
  },
  "language_info": {
   "codemirror_mode": {
    "name": "ipython",
    "version": 3
   },
   "file_extension": ".py",
   "mimetype": "text/x-python",
   "name": "python",
   "nbconvert_exporter": "python",
   "pygments_lexer": "ipython3",
   "version": "3.8.3"
  }
 },
 "nbformat": 4,
 "nbformat_minor": 4
}
