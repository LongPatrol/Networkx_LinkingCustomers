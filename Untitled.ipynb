{
 "cells": [
  {
   "cell_type": "code",
   "execution_count": 7,
   "metadata": {},
   "outputs": [
    {
     "name": "stdout",
     "output_type": "stream",
     "text": [
      "15\n",
      "11\n",
      "None\n",
      "hello\n"
     ]
    },
    {
     "data": {
      "image/png": "[encoded data removed]",
      "text/plain": [
       "<Figure size 432x288 with 1 Axes>"
      ]
     },
     "metadata": {},
     "output_type": "display_data"
    }
   ],
   "source": [
    "import networkx as nx\n",
    "import csv as csv\n",
    "import itertools as its\n",
    "import matplotlib as mt\n",
    "\n",
    "#Read in the edge csv, create the graph from the edges\n",
    "G = nx.read_edgelist(\"EdgeList.csv\", delimiter = \",\", create_using = nx.Graph(), nodetype = str, data=True, edgetype=str)\n",
    "\n",
    "#How many nodes and edges do we have?\n",
    "print(G.number_of_nodes())\n",
    "print(G.number_of_edges())\n",
    "#print the specific edges and nodes\n",
    "#print(G.nodes())\n",
    "#print(G.edges())\n",
    "\n",
    "#Draw the graph. (This won't be pretty if you have a lot of nodes)\n",
    "#print(nx.draw(G))\n",
    "\n",
    "print(nx.draw_networkx(G, with_labels=True, node_size=250))\n",
    "\n",
    "print(\"hello\")"
   ]
  },
  {
   "cell_type": "code",
   "execution_count": null,
   "metadata": {},
   "outputs": [],
   "source": []
  }
 ],
 "metadata": {
  "kernelspec": {
   "display_name": "Python 3",
   "language": "python",
   "name": "python3"
  },
  "language_info": {
   "codemirror_mode": {
    "name": "ipython",
    "version": 3
   },
   "file_extension": ".py",
   "mimetype": "text/x-python",
   "name": "python",
   "nbconvert_exporter": "python",
   "pygments_lexer": "ipython3",
   "version": "3.8.3"
  }
 },
 "nbformat": 4,
 "nbformat_minor": 4
}
